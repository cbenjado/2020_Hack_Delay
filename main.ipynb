{
 "metadata": {
  "language_info": {
   "codemirror_mode": {
    "name": "ipython",
    "version": 3
   },
   "file_extension": ".py",
   "mimetype": "text/x-python",
   "name": "python",
   "nbconvert_exporter": "python",
   "pygments_lexer": "ipython3",
   "version": "3.8.2-final"
  },
  "orig_nbformat": 2,
  "kernelspec": {
   "name": "python36864bitvenvvenv82c7bbd581e34085910a5595dd19e3f1",
   "display_name": "Python 3.6.8 64-bit ('.venv': venv)"
  }
 },
 "nbformat": 4,
 "nbformat_minor": 2,
 "cells": [
  {
   "cell_type": "code",
   "execution_count": 1,
   "metadata": {
    "tags": []
   },
   "outputs": [],
   "source": [
    "from pyspark import SparkConf\n",
    "from pyspark.sql import SparkSession\n",
    "from pyspark.sql.context import SQLContext\n",
    "import pyspark.sql.functions as pf"
   ]
  },
  {
   "cell_type": "code",
   "execution_count": 2,
   "metadata": {},
   "outputs": [],
   "source": [
    "conf = SparkConf()\n",
    "conf.set('spark.sql.shuffle.partitions', '2')\n",
    "\n",
    "spark = SparkSession.builder \\\n",
    "    .appName('2020_Hack') \\\n",
    "    .master('local[3]') \\\n",
    "    .config(conf=conf) \\\n",
    "    .getOrCreate()"
   ]
  },
  {
   "cell_type": "code",
   "execution_count": 3,
   "metadata": {},
   "outputs": [
    {
     "output_type": "execute_result",
     "data": {
      "text/plain": "<pyspark.sql.session.SparkSession at 0x1fa54b2e6d0>",
      "text/html": "\n            <div>\n                <p><b>SparkSession - in-memory</b></p>\n                \n        <div>\n            <p><b>SparkContext</b></p>\n\n            <p><a href=\"http://DEDW6PNV2.iamsabre.sabrenow.com:4040\">Spark UI</a></p>\n\n            <dl>\n              <dt>Version</dt>\n                <dd><code>v3.0.0</code></dd>\n              <dt>Master</dt>\n                <dd><code>local[3]</code></dd>\n              <dt>AppName</dt>\n                <dd><code>2020_Hack</code></dd>\n            </dl>\n        </div>\n        \n            </div>\n        "
     },
     "metadata": {},
     "execution_count": 3
    }
   ],
   "source": [
    "spark"
   ]
  },
  {
   "cell_type": "code",
   "execution_count": 4,
   "metadata": {},
   "outputs": [],
   "source": [
    "from DelayPredictor import OntimeLoader"
   ]
  },
  {
   "cell_type": "code",
   "execution_count": 5,
   "metadata": {},
   "outputs": [],
   "source": [
    "ontime = OntimeLoader(spark, 'data/ontime.td.201901.asc').load()"
   ]
  },
  {
   "cell_type": "code",
   "execution_count": 6,
   "metadata": {
    "tags": []
   },
   "outputs": [
    {
     "output_type": "stream",
     "name": "stdout",
     "text": "+-------+------+\n|   _c69| count|\n+-------+------+\n| FORM-1|583985|\n|FORM-3A|   347|\n|FORM-2A| 54532|\n+-------+------+\n\n"
    }
   ],
   "source": [
    "ontime.groupBy('_c69').count().show()"
   ]
  },
  {
   "cell_type": "code",
   "execution_count": 7,
   "metadata": {
    "tags": []
   },
   "outputs": [],
   "source": [
    "outputDataFrame = OntimeLoader.getOnlyForm1MktEqOpt(ontime)"
   ]
  },
  {
   "cell_type": "code",
   "execution_count": 8,
   "metadata": {
    "tags": []
   },
   "outputs": [
    {
     "output_type": "stream",
     "name": "stdout",
     "text": "+---+----+----+----+---+----+---+---+--------+---+----+----+----+----+----+----+----+----+----+----+----+----+----+----+----+------+----+----+----+----+----+----+----+----+----+----+----+----+----+----+----+----+----+----+----+----+----+----+----+----+----+----+----+----+----+----+----+----+----+----+----+----+----+----+----+----+----+----+----+------+----+\n|_c0|_c1 |_c2 |_c3 |_c4|_c5 |_c6|_c7|_c8     |_c9|_c10|_c11|_c12|_c13|_c14|_c15|_c16|_c17|_c18|_c19|_c20|_c21|_c22|_c23|_c24|_c25  |_c26|_c27|_c28|_c29|_c30|_c31|_c32|_c33|_c34|_c35|_c36|_c37|_c38|_c39|_c40|_c41|_c42|_c43|_c44|_c45|_c46|_c47|_c48|_c49|_c50|_c51|_c52|_c53|_c54|_c55|_c56|_c57|_c58|_c59|_c60|_c61|_c62|_c63|_c64|_c65|_c66|_c67|_c68|_c69  |_c70|\n+---+----+----+----+---+----+---+---+--------+---+----+----+----+----+----+----+----+----+----+----+----+----+----+----+----+------+----+----+----+----+----+----+----+----+----+----+----+----+----+----+----+----+----+----+----+----+----+----+----+----+----+----+----+----+----+----+----+----+----+----+----+----+----+----+----+----+----+----+----+------+----+\n|DL |3280|null|null|9E |3280|ATL|CSG|20190106|7  |1645|1645|1643|1732|1732|1720|0   |0   |47  |37  |-2  |-12 |-10 |1700|1718|N8694A|17  |2   |18  |null|0   |0   |0   |0   |0   |0   |0   |0   |0   |null|0   |0   |0   |0   |null|null|0   |0   |0   |0   |null|null|0   |0   |0   |0   |null|null|0   |0   |0   |0   |null|null|0   |0   |0   |0   |null|FORM-1|N   |\n+---+----+----+----+---+----+---+---+--------+---+----+----+----+----+----+----+----+----+----+----+----+----+----+----+----+------+----+----+----+----+----+----+----+----+----+----+----+----+----+----+----+----+----+----+----+----+----+----+----+----+----+----+----+----+----+----+----+----+----+----+----+----+----+----+----+----+----+----+----+------+----+\nonly showing top 1 row\n\n"
    }
   ],
   "source": [
    "outputDataFrame.show(1, False)"
   ]
  },
  {
   "cell_type": "code",
   "execution_count": 9,
   "metadata": {},
   "outputs": [],
   "source": [
    "outputDataFrame = outputDataFrame.drop('_c2').drop('_c3')\n",
    "outputDataFrame = outputDataFrame.withColumnRenamed('_c0', 'mkt_carrier_code')\n",
    "outputDataFrame = outputDataFrame.withColumnRenamed('_c1', 'mkt_flt_nbr')\n",
    "outputDataFrame = outputDataFrame.withColumnRenamed('_c4', 'opt_carrier_code')\n",
    "outputDataFrame = outputDataFrame.withColumnRenamed('_c5', 'opt_flt_nbr')\n",
    "outputDataFrame = outputDataFrame.withColumnRenamed('_c6', 'dept_airport_code')\n",
    "outputDataFrame = outputDataFrame.withColumnRenamed('_c7', 'arrv_airport_code')\n",
    "\n",
    "outputDataFrame = outputDataFrame.withColumnRenamed('_c8', 'dptr_date')\n",
    "outputDataFrame = outputDataFrame.withColumnRenamed('_c9', 'dptr_dow')\n",
    "outputDataFrame = outputDataFrame.withColumnRenamed('_c10', 'dptr_time_oag_skd')\n",
    "outputDataFrame = outputDataFrame.withColumnRenamed('_c11', 'dptr_time_crs_skd')\n",
    "outputDataFrame = outputDataFrame.withColumnRenamed('_c12', 'dptr_time_gate_act')\n",
    "\n",
    "outputDataFrame = outputDataFrame.withColumnRenamed('_c13', 'arrv_time_oag_skd')\n",
    "outputDataFrame = outputDataFrame.withColumnRenamed('_c14', 'arrv_time_crs_skd')\n",
    "outputDataFrame = outputDataFrame.withColumnRenamed('_c15', 'arrv_time_gate_act')\n",
    "\n",
    "outputDataFrame = outputDataFrame.withColumnRenamed('_c16', 'dptr_time_oag_minus_crs')\n",
    "outputDataFrame = outputDataFrame.withColumnRenamed('_c17', 'arrv_time_oag_minus_crs')\n",
    "\n",
    "outputDataFrame = outputDataFrame.withColumnRenamed('_c18', 'elapsed_time_crs_skd')\n",
    "outputDataFrame = outputDataFrame.withColumnRenamed('_c19', 'gate_to_gate_time')\n",
    "outputDataFrame = outputDataFrame.withColumnRenamed('_c20', 'dptr_delay_time')\n",
    "outputDataFrame = outputDataFrame.withColumnRenamed('_c21', 'arrv_delay_time')\n",
    "outputDataFrame = outputDataFrame.withColumnRenamed('_c22', 'elapsed_time_diff')\n",
    "\n",
    "outputDataFrame = outputDataFrame.withColumnRenamed('_c23', 'wheel_off_time')\n",
    "outputDataFrame = outputDataFrame.withColumnRenamed('_c24', 'wheel_on_time')\n",
    "\n",
    "outputDataFrame = outputDataFrame.withColumnRenamed('_c25', 'tail_nbr')\n",
    "\n",
    "outputDataFrame = outputDataFrame.withColumnRenamed('_c26', 'cxl_code')\n"
   ]
  },
  {
   "cell_type": "code",
   "execution_count": 10,
   "metadata": {
    "tags": []
   },
   "outputs": [
    {
     "output_type": "stream",
     "name": "stdout",
     "text": "+----------------+-----------+----------------+-----------+-----------------+-----------------+---------+--------+-----------------+-----------------+------------------+-----------------+-----------------+------------------+-----------------------+-----------------------+--------------------+-----------------+---------------+---------------+-----------------+--------------+-------------+--------+--------+----+----+----+----+----+----+----+----+----+----+----+----+----+----+----+----+----+----+----+----+----+----+----+----+----+----+----+----+----+----+----+----+----+----+----+----+----+----+----+----+----+----+------+----+\n|mkt_carrier_code|mkt_flt_nbr|opt_carrier_code|opt_flt_nbr|dept_airport_code|arrv_airport_code|dptr_date|dptr_dow|dptr_time_oag_skd|dptr_time_crs_skd|dptr_time_gate_act|arrv_time_oag_skd|arrv_time_crs_skd|arrv_time_gate_act|dptr_time_oag_minus_crs|arrv_time_oag_minus_crs|elapsed_time_crs_skd|gate_to_gate_time|dptr_delay_time|arrv_delay_time|elapsed_time_diff|wheel_off_time|wheel_on_time|tail_nbr|cxl_code|_c27|_c28|_c29|_c30|_c31|_c32|_c33|_c34|_c35|_c36|_c37|_c38|_c39|_c40|_c41|_c42|_c43|_c44|_c45|_c46|_c47|_c48|_c49|_c50|_c51|_c52|_c53|_c54|_c55|_c56|_c57|_c58|_c59|_c60|_c61|_c62|_c63|_c64|_c65|_c66|_c67|_c68|_c69  |_c70|\n+----------------+-----------+----------------+-----------+-----------------+-----------------+---------+--------+-----------------+-----------------+------------------+-----------------+-----------------+------------------+-----------------------+-----------------------+--------------------+-----------------+---------------+---------------+-----------------+--------------+-------------+--------+--------+----+----+----+----+----+----+----+----+----+----+----+----+----+----+----+----+----+----+----+----+----+----+----+----+----+----+----+----+----+----+----+----+----+----+----+----+----+----+----+----+----+----+------+----+\n|DL              |3280       |9E              |3280       |ATL              |CSG              |20190106 |7       |1645             |1645             |1643              |1732             |1732             |1720              |0                      |0                      |47                  |37               |-2             |-12            |-10              |1700          |1718         |N8694A  |17      |2   |18  |null|0   |0   |0   |0   |0   |0   |0   |0   |0   |null|0   |0   |0   |0   |null|null|0   |0   |0   |0   |null|null|0   |0   |0   |0   |null|null|0   |0   |0   |0   |null|null|0   |0   |0   |0   |null|FORM-1|N   |\n+----------------+-----------+----------------+-----------+-----------------+-----------------+---------+--------+-----------------+-----------------+------------------+-----------------+-----------------+------------------+-----------------------+-----------------------+--------------------+-----------------+---------------+---------------+-----------------+--------------+-------------+--------+--------+----+----+----+----+----+----+----+----+----+----+----+----+----+----+----+----+----+----+----+----+----+----+----+----+----+----+----+----+----+----+----+----+----+----+----+----+----+----+----+----+----+----+------+----+\nonly showing top 1 row\n\n"
    }
   ],
   "source": [
    "outputDataFrame.show(1, False)\n"
   ]
  },
  {
   "cell_type": "code",
   "execution_count": 13,
   "metadata": {
    "tags": []
   },
   "outputs": [
    {
     "output_type": "stream",
     "name": "stdout",
     "text": "+------------------+-------------+----+\n|arrv_time_gate_act|wheel_on_time|_c27|\n+------------------+-------------+----+\n|1720              |1718         |2   |\n|1712              |1709         |3   |\n|1719              |1717         |2   |\n|1717              |1713         |4   |\n|1721              |1717         |4   |\n+------------------+-------------+----+\nonly showing top 5 rows\n\n"
    }
   ],
   "source": [
    "outputDataFrame.select('arrv_time_gate_act', 'wheel_on_time', '_c27').show(5, False)"
   ]
  },
  {
   "cell_type": "code",
   "execution_count": null,
   "metadata": {},
   "outputs": [],
   "source": []
  }
 ]
}